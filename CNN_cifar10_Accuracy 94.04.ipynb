{
  "nbformat": 4,
  "nbformat_minor": 0,
  "metadata": {
    "colab": {
      "name": "94.04.ipynb",
      "provenance": [],
      "collapsed_sections": []
    },
    "kernelspec": {
      "name": "python3",
      "display_name": "Python 3"
    },
    "accelerator": "GPU"
  },
  "cells": [
    {
      "cell_type": "code",
      "metadata": {
        "id": "1agGD7uP493Q"
      },
      "source": [
        "#https://medium.com/@kenneth.ca95/a-guide-to-transfer-learning-with-keras-using-resnet50-a81a4a28084b\n",
        "# Running the version as 1.x is optional, without that first line it will run the last version of tensorflow for Colab.\n",
        "\n",
        "#import keras\n",
        "import tensorflow as tf \n",
        "from tensorflow import keras\n",
        "from keras.models import Sequential\n",
        "from keras.layers import Dense, Dropout, Flatten, Activation\n",
        "from keras.layers import Conv2D, MaxPooling2D\n",
        "\n",
        "import pandas as pd\n",
        "#from keras.utils import plot_model\n",
        "from keras.utils.vis_utils import plot_model\n",
        "#from keras.utils import np_utils\n",
        "from keras import utils as np_utils\n",
        "#from keras.utils import to_categorical\n",
        "from tensorflow.keras.utils import to_categorical\n",
        "pd.set_option('display.max_columns',None) #displaying long list of columns\n",
        "pd.set_option('display.max_rows', None) #displaying long list of rows\n",
        "pd.set_option('display.width', 1000) #width of window\n"
      ],
      "execution_count": null,
      "outputs": []
    },
    {
      "cell_type": "code",
      "metadata": {
        "id": "MUEuZsobBTUF"
      },
      "source": [
        "# Load data\n",
        "# Loading the CIFAR-10 datasets\n",
        "\n",
        "from keras.datasets import cifar10\n",
        "\n"
      ],
      "execution_count": null,
      "outputs": []
    },
    {
      "cell_type": "code",
      "metadata": {
        "id": "29Bq-NQmCDgS"
      },
      "source": [
        "# Preprocess data function\n",
        "# Now that the data is loaded, we are going to build a preprocess function for the data. \n",
        "# We have X as a numpy array of shape (m, 32, 32, 3) where m is the number of images, \n",
        "# 32 and 32 the dimensions, and 3 is because we use color images (RGB). \n",
        "# We have a set of X for training and a set of X for validation. \n",
        "# Y is a numpy array of shape (m, ) that we want to be our labels. \n",
        "# Since we work with 10 different categories, we make use of one-hot encoding with a \n",
        "# function of Keras that makes our Y into a shape of (m, 10). That also applies for the validation.\n",
        "\n",
        "def preprocess_data(X,Y):\n",
        "  X_p = keras.applications.resnet50.preprocess_input(X)\n",
        "  Y_p = keras.utils.to_categorical(Y,10)\n",
        "  return X_p, Y_p\n",
        "  "
      ],
      "execution_count": null,
      "outputs": []
    },
    {
      "cell_type": "code",
      "metadata": {
        "id": "Q4qZ9aHTEQUp",
        "colab": {
          "base_uri": "https://localhost:8080/"
        },
        "outputId": "cf197f92-118d-4697-d0f6-f6a242e14a42"
      },
      "source": [
        "# load and split data\n",
        "# The data, split between train and test sets:\n",
        "\n",
        "#(x_train, y_train), (x_test, y_test) = K.datasets.cifar10.load_data()\n",
        "(x_train, y_train), (x_test, y_test) = cifar10.load_data()\n",
        "print('x_train shape:', x_train.shape)\n",
        "print('y_train shape:', y_train.shape)\n"
      ],
      "execution_count": null,
      "outputs": [
        {
          "output_type": "stream",
          "name": "stdout",
          "text": [
            "x_train shape: (50000, 32, 32, 3)\n",
            "y_train shape: (50000, 1)\n"
          ]
        }
      ]
    },
    {
      "cell_type": "code",
      "metadata": {
        "id": "aAs88uCaFMc3",
        "colab": {
          "base_uri": "https://localhost:8080/"
        },
        "outputId": "3392b8f5-0593-4a27-8648-aad889385c0c"
      },
      "source": [
        "# Preprocess data\n",
        "## Next, we are going to call our function with the parameters loaded from the CIFAR10 database.\n",
        "\n",
        "x_train, y_train = preprocess_data(x_train, y_train)\n",
        "x_test, y_test = preprocess_data(x_test, y_test)\n",
        "print('x_train shape:', x_train.shape)\n",
        "print('y_train shape:', y_train.shape)"
      ],
      "execution_count": null,
      "outputs": [
        {
          "output_type": "stream",
          "name": "stdout",
          "text": [
            "x_train shape: (50000, 32, 32, 3)\n",
            "y_train shape: (50000, 10)\n"
          ]
        }
      ]
    },
    {
      "cell_type": "markdown",
      "source": [
        "**Modeling** : modeling goal - achieve an accuracy of at least 85% on the test data"
      ],
      "metadata": {
        "id": "6OXdUUJH6wGt"
      }
    },
    {
      "cell_type": "markdown",
      "source": [
        "(1) Experiment with the CNN model - Top Layer training"
      ],
      "metadata": {
        "id": "Rj945HY361S-"
      }
    },
    {
      "cell_type": "code",
      "metadata": {
        "id": "vDEpJYeWGK46"
      },
      "source": [
        "# Using weights of a trained neural network\n",
        "# A pretrained model from the Keras Applications has the advantage of allow you to use weights that\n",
        "# are already calibrated to make predictions. In this case, we use the weights from Imagenet \n",
        "# and the network is a ResNet50. The option include_top=False allows feature extraction by removing \n",
        "# the last dense layers. This let us control the output and input of the model.\n",
        "\n",
        "input_t = keras.Input(shape=(150,150,3))\n",
        "res_model = keras.applications.ResNet50(include_top=False,\n",
        "                                    weights=\"imagenet\",\n",
        "                                    input_tensor=input_t)\n"
      ],
      "execution_count": null,
      "outputs": []
    },
    {
      "cell_type": "markdown",
      "source": [
        "(2) Experiment with the multi-layer fully connected feed forward NN after the CNN layers"
      ],
      "metadata": {
        "id": "6OLBhRpi67Gv"
      }
    },
    {
      "cell_type": "code",
      "metadata": {
        "id": "hlyKjCtPH3m3"
      },
      "source": [
        "# In this case, we ‘freeze’ all layers except for the last block of the ResNet50.\n",
        "\n",
        "for layer in res_model.layers[:100]:\n",
        "  layer.trainable=False\n",
        "  "
      ],
      "execution_count": null,
      "outputs": []
    },
    {
      "cell_type": "code",
      "metadata": {
        "id": "JdixTKJ7I10V",
        "colab": {
          "base_uri": "https://localhost:8080/"
        },
        "outputId": "9f45f244-4390-4efc-e940-f601ac2df1c9"
      },
      "source": [
        "# We can check that we did it correctly with:\n",
        "# False means that the layer is ‘freezed’ or is not trainable and \n",
        "# True that when we run our model, the weights are going to be adjusted.\n",
        "\n",
        "for i, layer in enumerate(res_model.layers):\n",
        "  print(i,layer.name,\"-\",layer.trainable)\n",
        "  "
      ],
      "execution_count": null,
      "outputs": [
        {
          "output_type": "stream",
          "name": "stdout",
          "text": [
            "0 input_2 - False\n",
            "1 conv1_pad - False\n",
            "2 conv1_conv - False\n",
            "3 conv1_bn - False\n",
            "4 conv1_relu - False\n",
            "5 pool1_pad - False\n",
            "6 pool1_pool - False\n",
            "7 conv2_block1_1_conv - False\n",
            "8 conv2_block1_1_bn - False\n",
            "9 conv2_block1_1_relu - False\n",
            "10 conv2_block1_2_conv - False\n",
            "11 conv2_block1_2_bn - False\n",
            "12 conv2_block1_2_relu - False\n",
            "13 conv2_block1_0_conv - False\n",
            "14 conv2_block1_3_conv - False\n",
            "15 conv2_block1_0_bn - False\n",
            "16 conv2_block1_3_bn - False\n",
            "17 conv2_block1_add - False\n",
            "18 conv2_block1_out - False\n",
            "19 conv2_block2_1_conv - False\n",
            "20 conv2_block2_1_bn - False\n",
            "21 conv2_block2_1_relu - False\n",
            "22 conv2_block2_2_conv - False\n",
            "23 conv2_block2_2_bn - False\n",
            "24 conv2_block2_2_relu - False\n",
            "25 conv2_block2_3_conv - False\n",
            "26 conv2_block2_3_bn - False\n",
            "27 conv2_block2_add - False\n",
            "28 conv2_block2_out - False\n",
            "29 conv2_block3_1_conv - False\n",
            "30 conv2_block3_1_bn - False\n",
            "31 conv2_block3_1_relu - False\n",
            "32 conv2_block3_2_conv - False\n",
            "33 conv2_block3_2_bn - False\n",
            "34 conv2_block3_2_relu - False\n",
            "35 conv2_block3_3_conv - False\n",
            "36 conv2_block3_3_bn - False\n",
            "37 conv2_block3_add - False\n",
            "38 conv2_block3_out - False\n",
            "39 conv3_block1_1_conv - False\n",
            "40 conv3_block1_1_bn - False\n",
            "41 conv3_block1_1_relu - False\n",
            "42 conv3_block1_2_conv - False\n",
            "43 conv3_block1_2_bn - False\n",
            "44 conv3_block1_2_relu - False\n",
            "45 conv3_block1_0_conv - False\n",
            "46 conv3_block1_3_conv - False\n",
            "47 conv3_block1_0_bn - False\n",
            "48 conv3_block1_3_bn - False\n",
            "49 conv3_block1_add - False\n",
            "50 conv3_block1_out - False\n",
            "51 conv3_block2_1_conv - False\n",
            "52 conv3_block2_1_bn - False\n",
            "53 conv3_block2_1_relu - False\n",
            "54 conv3_block2_2_conv - False\n",
            "55 conv3_block2_2_bn - False\n",
            "56 conv3_block2_2_relu - False\n",
            "57 conv3_block2_3_conv - False\n",
            "58 conv3_block2_3_bn - False\n",
            "59 conv3_block2_add - False\n",
            "60 conv3_block2_out - False\n",
            "61 conv3_block3_1_conv - False\n",
            "62 conv3_block3_1_bn - False\n",
            "63 conv3_block3_1_relu - False\n",
            "64 conv3_block3_2_conv - False\n",
            "65 conv3_block3_2_bn - False\n",
            "66 conv3_block3_2_relu - False\n",
            "67 conv3_block3_3_conv - False\n",
            "68 conv3_block3_3_bn - False\n",
            "69 conv3_block3_add - False\n",
            "70 conv3_block3_out - False\n",
            "71 conv3_block4_1_conv - False\n",
            "72 conv3_block4_1_bn - False\n",
            "73 conv3_block4_1_relu - False\n",
            "74 conv3_block4_2_conv - False\n",
            "75 conv3_block4_2_bn - False\n",
            "76 conv3_block4_2_relu - False\n",
            "77 conv3_block4_3_conv - False\n",
            "78 conv3_block4_3_bn - False\n",
            "79 conv3_block4_add - False\n",
            "80 conv3_block4_out - False\n",
            "81 conv4_block1_1_conv - False\n",
            "82 conv4_block1_1_bn - False\n",
            "83 conv4_block1_1_relu - False\n",
            "84 conv4_block1_2_conv - False\n",
            "85 conv4_block1_2_bn - False\n",
            "86 conv4_block1_2_relu - False\n",
            "87 conv4_block1_0_conv - False\n",
            "88 conv4_block1_3_conv - False\n",
            "89 conv4_block1_0_bn - False\n",
            "90 conv4_block1_3_bn - False\n",
            "91 conv4_block1_add - False\n",
            "92 conv4_block1_out - False\n",
            "93 conv4_block2_1_conv - False\n",
            "94 conv4_block2_1_bn - False\n",
            "95 conv4_block2_1_relu - False\n",
            "96 conv4_block2_2_conv - False\n",
            "97 conv4_block2_2_bn - False\n",
            "98 conv4_block2_2_relu - False\n",
            "99 conv4_block2_3_conv - False\n",
            "100 conv4_block2_3_bn - True\n",
            "101 conv4_block2_add - True\n",
            "102 conv4_block2_out - True\n",
            "103 conv4_block3_1_conv - True\n",
            "104 conv4_block3_1_bn - True\n",
            "105 conv4_block3_1_relu - True\n",
            "106 conv4_block3_2_conv - True\n",
            "107 conv4_block3_2_bn - True\n",
            "108 conv4_block3_2_relu - True\n",
            "109 conv4_block3_3_conv - True\n",
            "110 conv4_block3_3_bn - True\n",
            "111 conv4_block3_add - True\n",
            "112 conv4_block3_out - True\n",
            "113 conv4_block4_1_conv - True\n",
            "114 conv4_block4_1_bn - True\n",
            "115 conv4_block4_1_relu - True\n",
            "116 conv4_block4_2_conv - True\n",
            "117 conv4_block4_2_bn - True\n",
            "118 conv4_block4_2_relu - True\n",
            "119 conv4_block4_3_conv - True\n",
            "120 conv4_block4_3_bn - True\n",
            "121 conv4_block4_add - True\n",
            "122 conv4_block4_out - True\n",
            "123 conv4_block5_1_conv - True\n",
            "124 conv4_block5_1_bn - True\n",
            "125 conv4_block5_1_relu - True\n",
            "126 conv4_block5_2_conv - True\n",
            "127 conv4_block5_2_bn - True\n",
            "128 conv4_block5_2_relu - True\n",
            "129 conv4_block5_3_conv - True\n",
            "130 conv4_block5_3_bn - True\n",
            "131 conv4_block5_add - True\n",
            "132 conv4_block5_out - True\n",
            "133 conv4_block6_1_conv - True\n",
            "134 conv4_block6_1_bn - True\n",
            "135 conv4_block6_1_relu - True\n",
            "136 conv4_block6_2_conv - True\n",
            "137 conv4_block6_2_bn - True\n",
            "138 conv4_block6_2_relu - True\n",
            "139 conv4_block6_3_conv - True\n",
            "140 conv4_block6_3_bn - True\n",
            "141 conv4_block6_add - True\n",
            "142 conv4_block6_out - True\n",
            "143 conv5_block1_1_conv - True\n",
            "144 conv5_block1_1_bn - True\n",
            "145 conv5_block1_1_relu - True\n",
            "146 conv5_block1_2_conv - True\n",
            "147 conv5_block1_2_bn - True\n",
            "148 conv5_block1_2_relu - True\n",
            "149 conv5_block1_0_conv - True\n",
            "150 conv5_block1_3_conv - True\n",
            "151 conv5_block1_0_bn - True\n",
            "152 conv5_block1_3_bn - True\n",
            "153 conv5_block1_add - True\n",
            "154 conv5_block1_out - True\n",
            "155 conv5_block2_1_conv - True\n",
            "156 conv5_block2_1_bn - True\n",
            "157 conv5_block2_1_relu - True\n",
            "158 conv5_block2_2_conv - True\n",
            "159 conv5_block2_2_bn - True\n",
            "160 conv5_block2_2_relu - True\n",
            "161 conv5_block2_3_conv - True\n",
            "162 conv5_block2_3_bn - True\n",
            "163 conv5_block2_add - True\n",
            "164 conv5_block2_out - True\n",
            "165 conv5_block3_1_conv - True\n",
            "166 conv5_block3_1_bn - True\n",
            "167 conv5_block3_1_relu - True\n",
            "168 conv5_block3_2_conv - True\n",
            "169 conv5_block3_2_bn - True\n",
            "170 conv5_block3_2_relu - True\n",
            "171 conv5_block3_3_conv - True\n",
            "172 conv5_block3_3_bn - True\n",
            "173 conv5_block3_add - True\n",
            "174 conv5_block3_out - True\n"
          ]
        }
      ]
    },
    {
      "cell_type": "markdown",
      "source": [
        "(3) Experiment with the Dropout rates"
      ],
      "metadata": {
        "id": "Qlcivrng6_gc"
      }
    },
    {
      "cell_type": "code",
      "metadata": {
        "id": "3PHC3U6xJceX"
      },
      "source": [
        "    # Add Flatten and Dense layers on top of Resnet\n",
        "    # Now, we need to connect our pretrained model with the new layers \n",
        "    # of our model. We can use global pooling or a flatten layer to connect \n",
        "    # the dimensions of the previous layers with the new layers. \n",
        "    \n",
        "to_res = (150, 150)\n",
        "\n",
        "    model = keras.models.Sequential()\n",
        "    model.add(keras.layers.Lambda(lambda image: tf.image.resize(image, to_res))) \n",
        "    model.add(res_model)\n",
        "    model.add(keras.layers.Flatten())\n",
        "    model.add(keras.layers.BatchNormalization())\n",
        "    model.add(keras.layers.Dense(256, activation='relu'))\n",
        "    model.add(keras.layers.Dropout(0.5))\n",
        "    model.add(keras.layers.BatchNormalization())\n",
        "    model.add(keras.layers.Dense(128, activation='relu'))\n",
        "    model.add(keras.layers.Dropout(0.5))\n",
        "    model.add(keras.layers.BatchNormalization())\n",
        "    model.add(keras.layers.Dense(64, activation='relu'))\n",
        "    model.add(keras.layers.Dropout(0.5))\n",
        "    model.add(keras.layers.BatchNormalization())\n",
        "    model.add(keras.layers.Dense(10, activation='softmax'))"
      ],
      "execution_count": null,
      "outputs": []
    },
    {
      "cell_type": "code",
      "metadata": {
        "id": "NClKTTPoJwjA",
        "colab": {
          "base_uri": "https://localhost:8080/"
        },
        "outputId": "aa22f499-5636-418f-ece1-671e883dc817"
      },
      "source": [
        "# Compile model and train\n",
        "# Results\n",
        "# We obtained an accuracy of 94% on training set and 90% on validation with 10 epochs.\n",
        "# In the 8th epoch, the values are very similar and it is interesting to note that \n",
        "# in the first validation accuracy is higher than training. \n",
        "# This is because of dropout use, which in Keras, it has a different behavior \n",
        "# for training and testing. In testing time, all the features are ready and \n",
        "# the dropout is turned off, resulting in a better accuracy. \n",
        "# This readjust on the last epochs since the model continues changing on the training.\n",
        "\n",
        "# adjust learning rate\n",
        "\n",
        "model.compile(loss='categorical_crossentropy',\n",
        "                  optimizer=keras.optimizers.RMSprop(lr=2e-5),\n",
        "                  metrics=['accuracy'])\n",
        "history = model.fit(x_train, y_train, batch_size=32, epochs=5, verbose=1, validation_data=(x_test, y_test))\n",
        "model.summary()\n"
      ],
      "execution_count": null,
      "outputs": [
        {
          "output_type": "stream",
          "name": "stderr",
          "text": [
            "/usr/local/lib/python3.7/dist-packages/keras/optimizer_v2/rmsprop.py:130: UserWarning: The `lr` argument is deprecated, use `learning_rate` instead.\n",
            "  super(RMSprop, self).__init__(name, **kwargs)\n"
          ]
        },
        {
          "output_type": "stream",
          "name": "stdout",
          "text": [
            "Epoch 1/5\n",
            "1563/1563 [==============================] - 477s 293ms/step - loss: 1.8783 - accuracy: 0.3670 - val_loss: 0.7068 - val_accuracy: 0.8706\n",
            "Epoch 2/5\n",
            "1563/1563 [==============================] - 455s 291ms/step - loss: 1.1390 - accuracy: 0.6469 - val_loss: 0.4554 - val_accuracy: 0.9141\n",
            "Epoch 3/5\n",
            "1563/1563 [==============================] - 455s 291ms/step - loss: 0.8517 - accuracy: 0.7683 - val_loss: 0.3216 - val_accuracy: 0.9329\n",
            "Epoch 4/5\n",
            "1563/1563 [==============================] - 455s 291ms/step - loss: 0.6603 - accuracy: 0.8366 - val_loss: 0.2694 - val_accuracy: 0.9389\n",
            "Epoch 5/5\n",
            "1563/1563 [==============================] - 455s 291ms/step - loss: 0.5197 - accuracy: 0.8849 - val_loss: 0.2335 - val_accuracy: 0.9404\n",
            "Model: \"sequential_1\"\n",
            "_________________________________________________________________\n",
            " Layer (type)                Output Shape              Param #   \n",
            "=================================================================\n",
            " lambda_1 (Lambda)           (None, 150, 150, 3)       0         \n",
            "                                                                 \n",
            " resnet50 (Functional)       (None, 5, 5, 2048)        23587712  \n",
            "                                                                 \n",
            " flatten_1 (Flatten)         (None, 51200)             0         \n",
            "                                                                 \n",
            " batch_normalization_4 (Batc  (None, 51200)            204800    \n",
            " hNormalization)                                                 \n",
            "                                                                 \n",
            " dense_4 (Dense)             (None, 256)               13107456  \n",
            "                                                                 \n",
            " dropout_3 (Dropout)         (None, 256)               0         \n",
            "                                                                 \n",
            " batch_normalization_5 (Batc  (None, 256)              1024      \n",
            " hNormalization)                                                 \n",
            "                                                                 \n",
            " dense_5 (Dense)             (None, 128)               32896     \n",
            "                                                                 \n",
            " dropout_4 (Dropout)         (None, 128)               0         \n",
            "                                                                 \n",
            " batch_normalization_6 (Batc  (None, 128)              512       \n",
            " hNormalization)                                                 \n",
            "                                                                 \n",
            " dense_6 (Dense)             (None, 64)                8256      \n",
            "                                                                 \n",
            " dropout_5 (Dropout)         (None, 64)                0         \n",
            "                                                                 \n",
            " batch_normalization_7 (Batc  (None, 64)               256       \n",
            " hNormalization)                                                 \n",
            "                                                                 \n",
            " dense_7 (Dense)             (None, 10)                650       \n",
            "                                                                 \n",
            "=================================================================\n",
            "Total params: 36,943,562\n",
            "Trainable params: 32,705,482\n",
            "Non-trainable params: 4,238,080\n",
            "_________________________________________________________________\n"
          ]
        }
      ]
    },
    {
      "cell_type": "markdown",
      "source": [
        "Evaluation"
      ],
      "metadata": {
        "id": "Fe6bTVIA7ICv"
      }
    },
    {
      "cell_type": "code",
      "source": [
        "scores = model.evaluate(x_test, y_test, verbose=0)\n",
        "print(\"%s: %.2f%%\" % (model.metrics_names[1], scores[1]*100))"
      ],
      "metadata": {
        "id": "joPidoCR7KbX",
        "outputId": "c7cad970-46bb-4ec7-d26d-d8dd6eace175",
        "colab": {
          "base_uri": "https://localhost:8080/"
        }
      },
      "execution_count": null,
      "outputs": [
        {
          "output_type": "stream",
          "name": "stdout",
          "text": [
            "accuracy: 94.04%\n"
          ]
        }
      ]
    }
  ]
}